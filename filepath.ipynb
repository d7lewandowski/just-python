{
 "cells": [
  {
   "cell_type": "code",
   "execution_count": 1,
   "metadata": {},
   "outputs": [
    {
     "name": "stdout",
     "output_type": "stream",
     "text": [
      "Current working direcotry is /workspaces/just-python\n"
     ]
    }
   ],
   "source": [
    "import os\n",
    "cwd = os.getcwd()\n",
    "print(f\"Current working direcotry is {cwd}\")"
   ]
  },
  {
   "cell_type": "code",
   "execution_count": 2,
   "metadata": {},
   "outputs": [
    {
     "name": "stdout",
     "output_type": "stream",
     "text": [
      "Directory package created\n"
     ]
    }
   ],
   "source": [
    "## create a new direcotry\n",
    "\n",
    "new_directory = \"package\"\n",
    "os.mkdir(new_directory)\n",
    "\n",
    "print(f\"Directory {new_directory} created\")"
   ]
  },
  {
   "cell_type": "code",
   "execution_count": 3,
   "metadata": {},
   "outputs": [
    {
     "name": "stdout",
     "output_type": "stream",
     "text": [
      "['fileoperation.ipynb', 'requirements.txt', 'destination.txt', 'package', 'example.txt', 'filepath.ipynb', 'example.bin', 'readme.md', '.git']\n"
     ]
    }
   ],
   "source": [
    "## Listing files and direcotires\n",
    "\n",
    "items = os.listdir('.')\n",
    "print(items)\n",
    "\n"
   ]
  },
  {
   "cell_type": "code",
   "execution_count": 4,
   "metadata": {},
   "outputs": [
    {
     "name": "stdout",
     "output_type": "stream",
     "text": [
      "folder/file.txt\n"
     ]
    }
   ],
   "source": [
    "## Joining Paths\n",
    "\n",
    "dir_name = \"folder\"\n",
    "file_name = \"file.txt\"\n",
    "\n",
    "full_path = os.path.join(dir_name, file_name)\n",
    "\n",
    "print(full_path)\n"
   ]
  },
  {
   "cell_type": "code",
   "execution_count": 6,
   "metadata": {},
   "outputs": [
    {
     "name": "stdout",
     "output_type": "stream",
     "text": [
      "/workspaces/just-python/folder/file.txt\n"
     ]
    }
   ],
   "source": [
    "dir_name = \"folder\"\n",
    "file_name = \"file.txt\"\n",
    "\n",
    "full_path = os.path.join(os.getcwd(), dir_name, file_name)\n",
    "print(full_path)"
   ]
  },
  {
   "cell_type": "code",
   "execution_count": 8,
   "metadata": {},
   "outputs": [
    {
     "name": "stdout",
     "output_type": "stream",
     "text": [
      "The path 'example1.txt' does not exits\n"
     ]
    }
   ],
   "source": [
    "path = 'example1.txt'\n",
    "\n",
    "if os.path.exists(path):\n",
    "    print(f\"The path '{path}' exits\")\n",
    "else:\n",
    "    print(f\"The path '{path}' does not exits\")"
   ]
  },
  {
   "cell_type": "code",
   "execution_count": 9,
   "metadata": {},
   "outputs": [
    {
     "name": "stdout",
     "output_type": "stream",
     "text": [
      "The path 'example.txt' exits\n"
     ]
    }
   ],
   "source": [
    "# Checking if a Path is a File or Direcotry\n",
    "\n",
    "path = 'example.txt'\n",
    "if os.path.isfile(path):\n",
    "    print(f\"The path '{path}' exits\")\n",
    "elif os.path.isdir(path):\n",
    "    print(f\"The path '{path}' is a direcotry\")\n",
    "else:\n",
    "    print(f\"The path {path} is neither a file nor a direcotry\")"
   ]
  },
  {
   "cell_type": "code",
   "execution_count": 11,
   "metadata": {},
   "outputs": [
    {
     "name": "stdout",
     "output_type": "stream",
     "text": [
      "/workspaces/just-python/example.txt\n"
     ]
    }
   ],
   "source": [
    "## Getting the absolute path\n",
    "\n",
    "relative_path = 'example.txt'\n",
    "\n",
    "absolute_path = os.path.abspath(relative_path)\n",
    "\n",
    "print(absolute_path)"
   ]
  },
  {
   "cell_type": "code",
   "execution_count": null,
   "metadata": {},
   "outputs": [],
   "source": []
  }
 ],
 "metadata": {
  "kernelspec": {
   "display_name": "Python 3",
   "language": "python",
   "name": "python3"
  },
  "language_info": {
   "codemirror_mode": {
    "name": "ipython",
    "version": 3
   },
   "file_extension": ".py",
   "mimetype": "text/x-python",
   "name": "python",
   "nbconvert_exporter": "python",
   "pygments_lexer": "ipython3",
   "version": "3.12.1"
  }
 },
 "nbformat": 4,
 "nbformat_minor": 2
}
